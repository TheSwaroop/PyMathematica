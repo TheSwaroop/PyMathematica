{
 "cells": [
  {
   "cell_type": "code",
   "execution_count": 12,
   "id": "6df4f1cd-b406-467a-9575-d67498596aed",
   "metadata": {},
   "outputs": [],
   "source": [
    "import math\n",
    "def is_prime(n):\n",
    "    if n < 2:\n",
    "        return False\n",
    "    for divisor in range(2, int(math.sqrt(n)) + 1):\n",
    "        if n % divisor == 0:\n",
    "            return False\n",
    "    return True"
   ]
  },
  {
   "cell_type": "code",
   "execution_count": 14,
   "id": "af97f9d5-0283-4b90-836d-37fc59e74448",
   "metadata": {},
   "outputs": [],
   "source": [
    "def prime_numbers_in_range(start, end):\n",
    "    primes = []\n",
    "    for num in range(start, end + 1):\n",
    "        if is_prime(num):\n",
    "            primes.append(num)\n",
    "    return primes"
   ]
  },
  {
   "cell_type": "code",
   "execution_count": 16,
   "id": "09d6a42c-df46-4f9f-925a-13b53b556338",
   "metadata": {},
   "outputs": [],
   "source": [
    "def find_nth_prime(n):\n",
    "    prime_count = 0\n",
    "    num = 1\n",
    "    while prime_count < n:\n",
    "        num += 1\n",
    "        if is_prime(num):\n",
    "            prime_count += 1\n",
    "    return num"
   ]
  },
  {
   "cell_type": "code",
   "execution_count": 21,
   "id": "fa2b1e48-8b6e-4ef3-a533-c6a3a53535bd",
   "metadata": {},
   "outputs": [
    {
     "name": "stdout",
     "output_type": "stream",
     "text": [
      "\n",
      "Choose an operation:\n",
      "1. Check if a number is prime\n",
      "2. Generate prime numbers within a range\n",
      "3. Find the nth prime number\n",
      "4. Exit\n"
     ]
    },
    {
     "name": "stdin",
     "output_type": "stream",
     "text": [
      "Enter your choice (1-4):  1\n",
      "Enter a number:  5\n"
     ]
    },
    {
     "name": "stdout",
     "output_type": "stream",
     "text": [
      "5 is a prime number.\n",
      "\n",
      "Choose an operation:\n",
      "1. Check if a number is prime\n",
      "2. Generate prime numbers within a range\n",
      "3. Find the nth prime number\n",
      "4. Exit\n"
     ]
    },
    {
     "name": "stdin",
     "output_type": "stream",
     "text": [
      "Enter your choice (1-4):  2\n",
      "Enter the start of the range:  3\n",
      "Enter the end of the range:  50\n"
     ]
    },
    {
     "name": "stdout",
     "output_type": "stream",
     "text": [
      "Prime numbers between 3 and 50 : [3, 5, 7, 11, 13, 17, 19, 23, 29, 31, 37, 41, 43, 47]\n",
      "\n",
      "Choose an operation:\n",
      "1. Check if a number is prime\n",
      "2. Generate prime numbers within a range\n",
      "3. Find the nth prime number\n",
      "4. Exit\n"
     ]
    },
    {
     "name": "stdin",
     "output_type": "stream",
     "text": [
      "Enter your choice (1-4):  3\n",
      "Enter the value of n:  56\n"
     ]
    },
    {
     "name": "stdout",
     "output_type": "stream",
     "text": [
      "The 56 th prime number is: 263\n",
      "\n",
      "Choose an operation:\n",
      "1. Check if a number is prime\n",
      "2. Generate prime numbers within a range\n",
      "3. Find the nth prime number\n",
      "4. Exit\n"
     ]
    },
    {
     "name": "stdin",
     "output_type": "stream",
     "text": [
      "Enter your choice (1-4):  4\n"
     ]
    },
    {
     "name": "stdout",
     "output_type": "stream",
     "text": [
      "Exiting the program. Goodbye!\n"
     ]
    }
   ],
   "source": [
    "while True:\n",
    "    print(\"\\nChoose an operation:\")\n",
    "    print(\"1. Check if a number is prime\")\n",
    "    print(\"2. Generate prime numbers within a range\")\n",
    "    print(\"3. Find the nth prime number\")\n",
    "    print(\"4. Exit\")\n",
    "\n",
    "    choice = input(\"Enter your choice (1-4): \")\n",
    "\n",
    "    if choice == \"1\":\n",
    "        num = int(input(\"Enter a number: \"))\n",
    "        if is_prime(num):\n",
    "            print(num, \"is a prime number.\")\n",
    "        else:\n",
    "            print(num, \"is not a prime number.\")\n",
    "\n",
    "    elif choice == \"2\":\n",
    "        start = int(input(\"Enter the start of the range: \"))\n",
    "        end = int(input(\"Enter the end of the range: \"))\n",
    "        primes = prime_numbers_in_range(start, end)\n",
    "        print(\"Prime numbers between\", start, \"and\", end, \":\", primes)\n",
    "\n",
    "    elif choice == \"3\":\n",
    "        n = int(input(\"Enter the value of n: \"))\n",
    "        nth_prime = find_nth_prime(n)\n",
    "        print(\"The\", n, \"th prime number is:\", nth_prime)\n",
    "\n",
    "    elif choice == \"4\":\n",
    "        print(\"Exiting the program. Goodbye!\")\n",
    "        break\n",
    "\n",
    "    else:\n",
    "        print(\"Invalid choice. Please enter a number between 1 and 4.\")"
   ]
  },
  {
   "cell_type": "code",
   "execution_count": null,
   "id": "3dfd1e56-4593-4b4b-99ee-1b29e04f34dc",
   "metadata": {},
   "outputs": [],
   "source": []
  }
 ],
 "metadata": {
  "kernelspec": {
   "display_name": "Python 3 (ipykernel)",
   "language": "python",
   "name": "python3"
  },
  "language_info": {
   "codemirror_mode": {
    "name": "ipython",
    "version": 3
   },
   "file_extension": ".py",
   "mimetype": "text/x-python",
   "name": "python",
   "nbconvert_exporter": "python",
   "pygments_lexer": "ipython3",
   "version": "3.12.7"
  }
 },
 "nbformat": 4,
 "nbformat_minor": 5
}
