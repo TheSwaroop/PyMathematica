{
 "cells": [
  {
   "cell_type": "code",
   "execution_count": 27,
   "id": "f6491f39-d1d5-417a-8198-7c353138a075",
   "metadata": {},
   "outputs": [
    {
     "name": "stdin",
     "output_type": "stream",
     "text": [
      "Enter number of elements:  3\n",
      "Enter element 1:  23\n",
      "Enter element 2:  55\n",
      "Enter element 3:  45\n"
     ]
    },
    {
     "name": "stdout",
     "output_type": "stream",
     "text": [
      "Dynamic Array: [23, 55, 45]\n"
     ]
    }
   ],
   "source": [
    "#creating a dynamic array\n",
    "arr = []  \n",
    "n = int(input(\"Enter number of elements: \"))\n",
    "\n",
    "for i in range(n):\n",
    "    element = int(input(f\"Enter element {i+1}: \"))\n",
    "    arr.append(element)  \n",
    "\n",
    "print(\"Dynamic Array:\", arr)\n"
   ]
  },
  {
   "cell_type": "code",
   "execution_count": 7,
   "id": "f2af0fb9-88b3-4b84-b92b-14e36f998bc7",
   "metadata": {},
   "outputs": [
    {
     "name": "stdin",
     "output_type": "stream",
     "text": [
      "Enter index to insert:  3\n",
      "Enter value to insert:  45\n"
     ]
    },
    {
     "name": "stdout",
     "output_type": "stream",
     "text": [
      "Array after insertion: [23, 55, 45, 45]\n"
     ]
    }
   ],
   "source": [
    "# ARRAY ELEMENT INSERTION\n",
    "index = int(input(\"Enter index to insert: \"))\n",
    "value = int(input(\"Enter value to insert: \"))\n",
    "\n",
    "if 0 <= index <= len(arr):\n",
    "    arr.insert(index, value)\n",
    "    print(\"Array after insertion:\", arr)\n",
    "else:\n",
    "    print(\"Invalid index!\")"
   ]
  },
  {
   "cell_type": "code",
   "execution_count": 9,
   "id": "a01c2460-e788-46ac-b982-f293a8fc3ca2",
   "metadata": {},
   "outputs": [
    {
     "name": "stdin",
     "output_type": "stream",
     "text": [
      "Enter value to delete:  45\n"
     ]
    },
    {
     "name": "stdout",
     "output_type": "stream",
     "text": [
      "Array after deletion: [23, 55, 45]\n"
     ]
    }
   ],
   "source": [
    "#ARRAY ELEMENT DELETION\n",
    "value = int(input(\"Enter value to delete: \"))\n",
    "\n",
    "if value in arr:\n",
    "    arr.remove(value)\n",
    "    print(\"Array after deletion:\", arr)\n",
    "else:\n",
    "    print(\"Value not found!\")\n"
   ]
  },
  {
   "cell_type": "code",
   "execution_count": 11,
   "id": "5c0a276c-0424-4549-8a4b-07962d67301b",
   "metadata": {},
   "outputs": [
    {
     "name": "stdin",
     "output_type": "stream",
     "text": [
      "Enter value to search:  45\n"
     ]
    },
    {
     "name": "stdout",
     "output_type": "stream",
     "text": [
      "Element found at index 2\n"
     ]
    }
   ],
   "source": [
    "#ELEMENT SEARCHING\n",
    "value = int(input(\"Enter value to search: \"))\n",
    "\n",
    "if value in arr:\n",
    "    print(f\"Element found at index {arr.index(value)}\")\n",
    "else:\n",
    "    print(\"Element not found!\")\n"
   ]
  },
  {
   "cell_type": "code",
   "execution_count": 15,
   "id": "f45e310e-c1c2-4928-ac56-f9fbdadeee68",
   "metadata": {},
   "outputs": [
    {
     "name": "stdin",
     "output_type": "stream",
     "text": [
      "Enter index to update:  2\n",
      "Enter new value:  60\n"
     ]
    },
    {
     "name": "stdout",
     "output_type": "stream",
     "text": [
      "Array after update: [23, 55, 60]\n"
     ]
    }
   ],
   "source": [
    "#ARRAY UPDATING\n",
    "index = int(input(\"Enter index to update: \"))\n",
    "new_value = int(input(\"Enter new value: \"))\n",
    "\n",
    "if 0 <= index < len(arr):\n",
    "    arr[index] = new_value\n",
    "    print(\"Array after update:\", arr)\n",
    "else:\n",
    "    print(\"Invalid index!\")\n"
   ]
  },
  {
   "cell_type": "code",
   "execution_count": 17,
   "id": "17a110f8-b26a-4c28-96b0-d27157a8a6be",
   "metadata": {},
   "outputs": [
    {
     "name": "stdout",
     "output_type": "stream",
     "text": [
      "Reversed Array: [60, 55, 23]\n"
     ]
    }
   ],
   "source": [
    "#REVERSE OF AN ARRAY\n",
    "arr.reverse()\n",
    "print(\"Reversed Array:\", arr)\n"
   ]
  },
  {
   "cell_type": "code",
   "execution_count": 19,
   "id": "ddf7b376-546f-4d2a-a527-9dd0019f02d3",
   "metadata": {},
   "outputs": [
    {
     "name": "stdout",
     "output_type": "stream",
     "text": [
      "Max: 60\n",
      "Min: 23\n"
     ]
    }
   ],
   "source": [
    "#FIND MAX AND MIN\n",
    "if arr:\n",
    "    print(\"Max:\", max(arr))\n",
    "    print(\"Min:\", min(arr))\n",
    "else:\n",
    "    print(\"Array is empty!\")\n"
   ]
  },
  {
   "cell_type": "code",
   "execution_count": 21,
   "id": "9f575c69-1d65-4e4e-a1b3-07e97ef0ed83",
   "metadata": {},
   "outputs": [
    {
     "name": "stdout",
     "output_type": "stream",
     "text": [
      "Sorted Array: [23, 55, 60]\n"
     ]
    }
   ],
   "source": [
    "arr.sort()\n",
    "print(\"Sorted Array:\", arr)\n"
   ]
  },
  {
   "cell_type": "code",
   "execution_count": null,
   "id": "d4ada75c-f2a6-4194-b695-f75b92b045ab",
   "metadata": {},
   "outputs": [],
   "source": []
  }
 ],
 "metadata": {
  "kernelspec": {
   "display_name": "Python 3 (ipykernel)",
   "language": "python",
   "name": "python3"
  },
  "language_info": {
   "codemirror_mode": {
    "name": "ipython",
    "version": 3
   },
   "file_extension": ".py",
   "mimetype": "text/x-python",
   "name": "python",
   "nbconvert_exporter": "python",
   "pygments_lexer": "ipython3",
   "version": "3.12.7"
  }
 },
 "nbformat": 4,
 "nbformat_minor": 5
}
